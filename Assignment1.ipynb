{
 "cells": [
  {
   "cell_type": "code",
   "execution_count": 3,
   "id": "alternate-developer",
   "metadata": {
    "scrolled": true
   },
   "outputs": [
    {
     "name": "stderr",
     "output_type": "stream",
     "text": [
      "Using TensorFlow backend.\n"
     ]
    }
   ],
   "source": [
    "from keras.datasets import fashion_mnist"
   ]
  },
  {
   "cell_type": "code",
   "execution_count": 4,
   "id": "general-shooting",
   "metadata": {},
   "outputs": [],
   "source": [
    "(train_images, train_labels), (test_images, test_labels) = fashion_mnist.load_data()"
   ]
  },
  {
   "cell_type": "code",
   "execution_count": 24,
   "id": "prescribed-senate",
   "metadata": {
    "collapsed": true
   },
   "outputs": [
    {
     "ename": "SyntaxError",
     "evalue": "invalid syntax (<ipython-input-24-f69103734f07>, line 1)",
     "output_type": "error",
     "traceback": [
      "\u001b[0;36m  File \u001b[0;32m\"<ipython-input-24-f69103734f07>\"\u001b[0;36m, line \u001b[0;32m1\u001b[0m\n\u001b[0;31m    This dataset can be used as a drop-in replacement for MNIST. The class labels are:\u001b[0m\n\u001b[0m               ^\u001b[0m\n\u001b[0;31mSyntaxError\u001b[0m\u001b[0;31m:\u001b[0m invalid syntax\n"
     ]
    }
   ],
   "source": [
    "This dataset can be used as a drop-in replacement for MNIST. The class labels are:\n",
    "\n",
    "T-shirt/top\n",
    "Trouser\n",
    "Pullover\n",
    "Dress\n",
    "Coat\n",
    "Sandal\n",
    "Shirt\n",
    "Sneaker\n",
    "Bag\n",
    "Ankle boot"
   ]
  },
  {
   "cell_type": "code",
   "execution_count": 8,
   "id": "approximate-essay",
   "metadata": {},
   "outputs": [
    {
     "data": {
      "text/plain": [
       "1"
      ]
     },
     "execution_count": 8,
     "metadata": {},
     "output_type": "execute_result"
    }
   ],
   "source": [
    "import pandas as pd\n",
    "import numpy as np\n",
    "\n",
    "#1 dimensions of train_images, train_labels, test_images, and test_labels\n",
    "ti = np.array(train_images)\n",
    "tl = np.array(train_labels)\n",
    "t_i = np.array(test_images)\n",
    "t_l =np.array(test_labels)\n",
    "ti.ndim \n",
    "tl.ndim \n",
    "t_i.ndim\n",
    "t_l.ndim"
   ]
  },
  {
   "cell_type": "code",
   "execution_count": 38,
   "id": "collect-discount",
   "metadata": {},
   "outputs": [
    {
     "data": {
      "text/plain": [
       "60000"
      ]
     },
     "execution_count": 38,
     "metadata": {},
     "output_type": "execute_result"
    }
   ],
   "source": [
    "#2\n",
    "len(train_labels)#1000\n",
    "len(test_labels)#6000"
   ]
  },
  {
   "cell_type": "code",
   "execution_count": 23,
   "id": "statutory-accounting",
   "metadata": {},
   "outputs": [
    {
     "name": "stdout",
     "output_type": "stream",
     "text": [
      "[9 0 0 ... 3 0 5]\n"
     ]
    },
    {
     "data": {
      "text/html": [
       "<div>\n",
       "<style scoped>\n",
       "    .dataframe tbody tr th:only-of-type {\n",
       "        vertical-align: middle;\n",
       "    }\n",
       "\n",
       "    .dataframe tbody tr th {\n",
       "        vertical-align: top;\n",
       "    }\n",
       "\n",
       "    .dataframe thead th {\n",
       "        text-align: right;\n",
       "    }\n",
       "</style>\n",
       "<table border=\"1\" class=\"dataframe\">\n",
       "  <thead>\n",
       "    <tr style=\"text-align: right;\">\n",
       "      <th></th>\n",
       "      <th>0</th>\n",
       "    </tr>\n",
       "  </thead>\n",
       "  <tbody>\n",
       "    <tr>\n",
       "      <th>0</th>\n",
       "      <td>9</td>\n",
       "    </tr>\n",
       "    <tr>\n",
       "      <th>1</th>\n",
       "      <td>0</td>\n",
       "    </tr>\n",
       "    <tr>\n",
       "      <th>2</th>\n",
       "      <td>0</td>\n",
       "    </tr>\n",
       "    <tr>\n",
       "      <th>3</th>\n",
       "      <td>3</td>\n",
       "    </tr>\n",
       "    <tr>\n",
       "      <th>4</th>\n",
       "      <td>0</td>\n",
       "    </tr>\n",
       "    <tr>\n",
       "      <th>5</th>\n",
       "      <td>2</td>\n",
       "    </tr>\n",
       "    <tr>\n",
       "      <th>6</th>\n",
       "      <td>7</td>\n",
       "    </tr>\n",
       "    <tr>\n",
       "      <th>7</th>\n",
       "      <td>2</td>\n",
       "    </tr>\n",
       "    <tr>\n",
       "      <th>8</th>\n",
       "      <td>5</td>\n",
       "    </tr>\n",
       "    <tr>\n",
       "      <th>9</th>\n",
       "      <td>5</td>\n",
       "    </tr>\n",
       "  </tbody>\n",
       "</table>\n",
       "</div>"
      ],
      "text/plain": [
       "   0\n",
       "0  9\n",
       "1  0\n",
       "2  0\n",
       "3  3\n",
       "4  0\n",
       "5  2\n",
       "6  7\n",
       "7  2\n",
       "8  5\n",
       "9  5"
      ]
     },
     "execution_count": 23,
     "metadata": {},
     "output_type": "execute_result"
    }
   ],
   "source": [
    "#3\n",
    "print(train_labels)\n",
    "ttl = pd.DataFrame(train_labels)\n",
    "ttl.head(10)"
   ]
  },
  {
   "cell_type": "code",
   "execution_count": 10,
   "id": "missing-harvest",
   "metadata": {},
   "outputs": [
    {
     "name": "stdout",
     "output_type": "stream",
     "text": [
      "[9 2 1 ... 8 1 5]\n"
     ]
    }
   ],
   "source": [
    "print(test_labels)"
   ]
  },
  {
   "cell_type": "code",
   "execution_count": 32,
   "id": "injured-specialist",
   "metadata": {},
   "outputs": [
    {
     "name": "stdout",
     "output_type": "stream",
     "text": [
      "2\n"
     ]
    },
    {
     "data": {
      "text/plain": [
       "<matplotlib.image.AxesImage at 0x7fe387ad16d8>"
      ]
     },
     "execution_count": 32,
     "metadata": {},
     "output_type": "execute_result"
    },
    {
     "data": {
      "image/png": "[encoded data removed]",
      "text/plain": [
       "<Figure size 432x288 with 1 Axes>"
      ]
     },
     "metadata": {
      "needs_background": "light"
     },
     "output_type": "display_data"
    }
   ],
   "source": [
    "#4\n",
    "#Please show the digital content of image index 5 in the training dataset.\n",
    "#5 \n",
    "#Please plot the image of the index 5 in the training dataset.\n",
    "\n",
    "import matplotlib.pyplot as plt\n",
    "%matplotlib inline \n",
    "image_index = 5\n",
    "print(train_labels[image_index])\n",
    "plt.imshow(train_images[image_index])"
   ]
  },
  {
   "cell_type": "markdown",
   "id": "respective-organic",
   "metadata": {},
   "source": [
    "# 6\n",
    "    #What is the label for the index 5 in the train_label and looking up in the above list, what does it mean?\n",
    "The label for the index 5 in the train_label is a pullover jacket according to the list"
   ]
  },
  {
   "cell_type": "code",
   "execution_count": 25,
   "id": "informational-brave",
   "metadata": {},
   "outputs": [
    {
     "name": "stdout",
     "output_type": "stream",
     "text": [
      "2\n"
     ]
    },
    {
     "data": {
      "text/plain": [
       "<matplotlib.image.AxesImage at 0x7fe386ae3080>"
      ]
     },
     "execution_count": 25,
     "metadata": {},
     "output_type": "execute_result"
    },
    {
     "data": {
      "image/png": "[encoded data removed]",
      "text/plain": [
       "<Figure size 432x288 with 1 Axes>"
      ]
     },
     "metadata": {
      "needs_background": "light"
     },
     "output_type": "display_data"
    }
   ],
   "source": [
    "#7\n",
    "    #Please show the digital content of image index 500 in the testing dataset\n",
    "    #8 Please plot the image of the index 500 in the testing dataset\n",
    "image_index = 500\n",
    "print(test_labels[image_index])\n",
    "plt.imshow(test_images[image_index])"
   ]
  },
  {
   "cell_type": "code",
   "execution_count": 26,
   "id": "still-furniture",
   "metadata": {},
   "outputs": [],
   "source": [
    "#9 It means it is a pullover "
   ]
  },
  {
   "cell_type": "code",
   "execution_count": 27,
   "id": "parliamentary-occasion",
   "metadata": {},
   "outputs": [],
   "source": [
    "#10\n",
    "\n",
    "import tensorflow as tf\n",
    "from tensorflow import keras\n",
    "from tensorflow.keras import layers"
   ]
  },
  {
   "cell_type": "code",
   "execution_count": 29,
   "id": "talented-denmark",
   "metadata": {},
   "outputs": [],
   "source": [
    "# 11 \n",
    "    #Define a sequential model and call it myNetwork\n",
    "myNetwork = keras.Sequential()"
   ]
  },
  {
   "cell_type": "code",
   "execution_count": 34,
   "id": "tested-education",
   "metadata": {},
   "outputs": [
    {
     "data": {
      "text/plain": [
       "(60000, 28, 28)"
      ]
     },
     "execution_count": 34,
     "metadata": {},
     "output_type": "execute_result"
    }
   ],
   "source": [
    "#12\n",
    "train_images.shape# 3dim\n",
    "    # to use the dataset in Keras api we need 4dim numpy array"
   ]
  },
  {
   "cell_type": "code",
   "execution_count": 35,
   "id": "great-shoulder",
   "metadata": {},
   "outputs": [
    {
     "ename": "ValueError",
     "evalue": "cannot reshape array of size 47040000 into shape (784,1)",
     "output_type": "error",
     "traceback": [
      "\u001b[0;31m---------------------------------------------------------------------------\u001b[0m",
      "\u001b[0;31mValueError\u001b[0m                                Traceback (most recent call last)",
      "\u001b[0;32m<ipython-input-35-6f6f8e13921f>\u001b[0m in \u001b[0;36m<module>\u001b[0;34m\u001b[0m\n\u001b[0;32m----> 1\u001b[0;31m \u001b[0mtrain_images\u001b[0m \u001b[0;34m=\u001b[0m \u001b[0mtrain_images\u001b[0m\u001b[0;34m.\u001b[0m\u001b[0mreshape\u001b[0m\u001b[0;34m(\u001b[0m\u001b[0;36m784\u001b[0m\u001b[0;34m,\u001b[0m\u001b[0;36m1\u001b[0m\u001b[0;34m)\u001b[0m\u001b[0;34m\u001b[0m\u001b[0;34m\u001b[0m\u001b[0m\n\u001b[0m",
      "\u001b[0;31mValueError\u001b[0m: cannot reshape array of size 47040000 into shape (784,1)"
     ]
    }
   ],
   "source": [
    "train_images = train_images.reshape(784,1)"
   ]
  },
  {
   "cell_type": "code",
   "execution_count": null,
   "id": "beneficial-morrison",
   "metadata": {},
   "outputs": [],
   "source": []
  }
 ],
 "metadata": {
  "kernelspec": {
   "display_name": "Python 3",
   "language": "python",
   "name": "python3"
  },
  "language_info": {
   "codemirror_mode": {
    "name": "ipython",
    "version": 3
   },
   "file_extension": ".py",
   "mimetype": "text/x-python",
   "name": "python",
   "nbconvert_exporter": "python",
   "pygments_lexer": "ipython3",
   "version": "3.6.10"
  }
 },
 "nbformat": 4,
 "nbformat_minor": 5
}
